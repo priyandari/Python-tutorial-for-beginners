{
 "cells": [
  {
   "cell_type": "markdown",
   "metadata": {},
   "source": [
    "### Tugas Pertemuan Kedua"
   ]
  },
  {
   "cell_type": "markdown",
   "metadata": {},
   "source": [
    "## Buatlah diagram alir menggunakan piranti lunak"
   ]
  },
  {
   "cell_type": "markdown",
   "metadata": {},
   "source": [
    "1. Lakukan secara berkelompok (1 kelompok terdiri dari 3 mahasiswa)\n",
    "2. Gunakan piranti lunak seperti:\n",
    "> * Microsoft Visio \n",
    "> * Edraw\n",
    "> * Google Drawing\n",
    "> * SmartDraw\n",
    "> * Draw.io\n",
    "> * Microsoft Word\n",
    "> * Cacoo, \n",
    "> dan masih banyak piranti lunak lainnya. \n",
    "3. Pilihlah kasus-kasus seperti disajikan pada gambar-gambar di bawah ini, dan buatkan algoritmanya.\n",
    "4. Tugas dikumpulkan pada 15 Maret 2019, jam 11.00 \n",
    "5. Tugas dikumpulkan dalam bentuk softfile (pdf) dikirim ke email dosen pengampu dan hardcopy (cetak A4) dikumpulkan di loker pengumpulan tugas.\n",
    "6. Pilihan soal yang boleh dipilih sebagai berikut. Setiap kelompok di sebuah kelas harus memilih soal yang berbeda dengan soal kelompok rekannya."
   ]
  },
  {
   "cell_type": "markdown",
   "metadata": {},
   "source": [
    "### Soal 1\n",
    "Diagram alir untuk menentukan tarif parkir yang dharus dibayar oleh suatu kendaraan (roda 2 atau roda 4) di sebuah bandara. Perhatikan dengan teliti apa saja input dari program."
   ]
  },
  {
   "attachments": {},
   "cell_type": "markdown",
   "metadata": {},
   "source": [
    "<img src=\"images/w02Soal01TarifParkir.png\">"
   ]
  },
  {
   "cell_type": "markdown",
   "metadata": {},
   "source": [
    "### Soal 2\n",
    "Pendapatan bulanan seorang pegawai ditentukan oleh informasi pada tabel di bawah ini. Buatlah diagram alir yang dapat menghasilkan <b>nilai rupiah pajak</b> yang dikenakan dan <b>pendapatan bersih</b> yang diterima seorang pegawai. Perhatikan dengan teliti apa saja input dari program.\n"
   ]
  },
  {
   "attachments": {},
   "cell_type": "markdown",
   "metadata": {},
   "source": [
    "<img src=\"images/w02Soal02PendapatanKaryawan.png\">"
   ]
  },
  {
   "cell_type": "markdown",
   "metadata": {},
   "source": [
    "### Soal 3\n",
    "Seorang konsultan kesehatan bermaksud menghitung <b>Berat Badan Ideal (BBI)</b> seseorang. Selain menghasilkan nilai BBI,  juga akan memberikan informasi apakah berat badan seseorang  termasuk Ideal, Di Bawah Ideal, atau Di Atas Ideal. Berat seseorang dikatakan Ideal jika berada +/- 1kg dari nilai BBI.\n",
    "\n",
    "Rumus menghitung nilai BBI sebagai berikut:\n",
    "\n",
    "a.\tBayi usia 0 – 12 bulan\n",
    "BBI = (umur/2) + 4\n",
    "Umur dalam satuan bulan\n",
    "\n",
    "b.\tAnak usia 1-10 tahun\n",
    "BBI = (umur x 2) + 8\n",
    "Umur dalam satuan tahun\n",
    "\n",
    "c.\tRemaja dan Dewasa\n",
    "BBI = (Tinggi Badan – 100) – (Tinggi Badan – 100)x10%\n",
    "atau \n",
    "BBI = (Tinggi Badan – 100)  x 90%\n",
    "Tinggi Badan dalam satuan centimeter.\n"
   ]
  },
  {
   "cell_type": "markdown",
   "metadata": {},
   "source": [
    "### Soal 4\n",
    "Diagram alir untuk menentukan tarif parkir yang dharus dibayar oleh suatu kendaraan berdasarkan ketentuan Reska berikut ini. Perhatikan dengan teliti apa saja input dari program."
   ]
  },
  {
   "attachments": {},
   "cell_type": "markdown",
   "metadata": {},
   "source": [
    "<img src=\"images/w02Soal04TarifParkirStasiun.jpg\">"
   ]
  },
  {
   "cell_type": "markdown",
   "metadata": {},
   "source": [
    "### Soal 5\n",
    "Diagram alir untuk menentukan nilai akhir setiap pelajaran dan nilai rata-ratanya berdasarkan ketentuan dan contoh yang disajikan dalam gambar-gambar di bawah ini. Perhatikan dengan teliti apa saja input dari program."
   ]
  },
  {
   "attachments": {},
   "cell_type": "markdown",
   "metadata": {},
   "source": [
    "<img src=\"images/w02Soal05NilaiUjian01.jpg\">"
   ]
  },
  {
   "attachments": {},
   "cell_type": "markdown",
   "metadata": {},
   "source": [
    "<img src=\"images/w02Soal05NilaiUjian02.jpg\">"
   ]
  },
  {
   "cell_type": "markdown",
   "metadata": {},
   "source": [
    "### Soal 6\n",
    "Diagram alir untuk menentukan kebutuhan cairan pengganti.Perhatikan dengan teliti apa saja input dari program.\n"
   ]
  },
  {
   "attachments": {},
   "cell_type": "markdown",
   "metadata": {},
   "source": [
    "<img src=\"images/w02Soal06HitungCairanPengganti.jpg\">"
   ]
  },
  {
   "cell_type": "markdown",
   "metadata": {},
   "source": [
    "### Soal 7\n",
    "Diagram alir untuk menentukan tarif pajak bumi dan bangunan suatu tanah dan/atau bangunan berdasarkan contoh di bawah ini. Perhatikan dengan teliti apa saja input dari program."
   ]
  },
  {
   "attachments": {},
   "cell_type": "markdown",
   "metadata": {},
   "source": [
    "<img src=\"images/w02Soal07HitungPBB.jpg\">"
   ]
  },
  {
   "cell_type": "markdown",
   "metadata": {},
   "source": [
    "### Soal 8\n",
    "Diagram alir untuk menentukan gaji bersih bulanan yang akan diterima seorang pegawai berdasarkan contoh di bawah ini.Perhatikan dengan teliti apa saja input dari program.\n"
   ]
  },
  {
   "attachments": {},
   "cell_type": "markdown",
   "metadata": {},
   "source": [
    "<img src=\"images/w02Soal08HitungGajiKaryawan.jpg\">"
   ]
  },
  {
   "cell_type": "markdown",
   "metadata": {},
   "source": [
    "### Soal 9\n",
    "Diagram alir untuk menentukan tarif tol yang harus dibayarkan suatu kendaraan berdasarkan ketentuan di bawah. Perhatikan dengan teliti apa saja input dari program."
   ]
  },
  {
   "attachments": {},
   "cell_type": "markdown",
   "metadata": {},
   "source": [
    "<img src=\"images/w02Soal09HitungtarifTol.jpg\">"
   ]
  },
  {
   "cell_type": "code",
   "execution_count": null,
   "metadata": {},
   "outputs": [],
   "source": []
  }
 ],
 "metadata": {
  "kernelspec": {
   "display_name": "Python 3",
   "language": "python",
   "name": "python3"
  },
  "language_info": {
   "codemirror_mode": {
    "name": "ipython",
    "version": 3
   },
   "file_extension": ".py",
   "mimetype": "text/x-python",
   "name": "python",
   "nbconvert_exporter": "python",
   "pygments_lexer": "ipython3",
   "version": "3.6.5"
  }
 },
 "nbformat": 4,
 "nbformat_minor": 2
}